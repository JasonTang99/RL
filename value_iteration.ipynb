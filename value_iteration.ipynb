{
  "nbformat": 4,
  "nbformat_minor": 0,
  "metadata": {
    "colab": {
      "name": "value_iteration",
      "version": "0.3.2",
      "provenance": [],
      "collapsed_sections": []
    },
    "kernelspec": {
      "name": "python3",
      "display_name": "Python 3"
    },
    "accelerator": "GPU"
  },
  "cells": [
    {
      "cell_type": "code",
      "metadata": {
        "id": "f1knM_4QFt6Q",
        "colab_type": "code",
        "colab": {}
      },
      "source": [
        "# This code is based on an exercise in the Reinforcement Learning textbook by Richard Sutton and Andrew Barto\n",
        "# Link to the textbook: http://incompleteideas.net/book/RLbook2018.pdf\n",
        "# The exercise is the car rental exercise found in section 4.4 on page 84\n",
        "# The dependencies for this code are numpy and python 3.6+"
      ],
      "execution_count": 0,
      "outputs": []
    },
    {
      "cell_type": "code",
      "metadata": {
        "id": "4MDsTiFc_zUU",
        "colab_type": "code",
        "colab": {}
      },
      "source": [
        "import numpy as np"
      ],
      "execution_count": 0,
      "outputs": []
    },
    {
      "cell_type": "code",
      "metadata": {
        "id": "JbMiU1WI_2M9",
        "colab_type": "code",
        "colab": {}
      },
      "source": [
        "NUM_STATES = 101 # 0 - 100\n",
        "V_s = np.zeros(NUM_STATES)\n",
        "V_s[NUM_STATES - 1] = 1 # Only place where reward is 1\n",
        "\n",
        "V_index = np.array(range(1, 100))\n",
        "\n",
        "policy = np.ones(99) # 1 - 99 are not terminal states\n",
        "\n",
        "def get_actions(s):\n",
        "  return list(range(1, min(s, 100 - s) + 1))\n",
        "\n",
        "DELTA_LIM = 0.000001\n",
        "DISCOUNT = 1\n",
        "\n",
        "p_h = 0.4"
      ],
      "execution_count": 0,
      "outputs": []
    },
    {
      "cell_type": "code",
      "metadata": {
        "id": "vU0vM5c3gNhI",
        "colab_type": "code",
        "outputId": "0222474c-5708-4275-9c00-44180d7182be",
        "colab": {
          "base_uri": "https://localhost:8080/",
          "height": 34
        }
      },
      "source": [
        "# At most there are 50 actions to take (at state 50, actions: [1,50])\n",
        "\n",
        "prob_table = []\n",
        "\n",
        "for s in V_index: # [1, 99]\n",
        "  heads = []\n",
        "  tails = []\n",
        "  for a in get_actions(s): # [1, min(s, 100 - s)]\n",
        "    heads.append([p_h, 0, s + a])\n",
        "    tails.append([1 - p_h, 0, s - a])\n",
        "\n",
        "  for _ in range(50 - len(heads)):\n",
        "    heads.append([0,0,0])\n",
        "    tails.append([0,0,0])\n",
        "\n",
        "  prob_table.append(np.stack([np.array(heads), np.array(tails)], axis = 1))\n",
        "  \n",
        "prob_table = np.array(prob_table)\n",
        "prob_table.shape"
      ],
      "execution_count": 4,
      "outputs": [
        {
          "output_type": "execute_result",
          "data": {
            "text/plain": [
              "(99, 50, 2, 3)"
            ]
          },
          "metadata": {
            "tags": []
          },
          "execution_count": 4
        }
      ]
    },
    {
      "cell_type": "code",
      "metadata": {
        "id": "pPe0KO8sT-JR",
        "colab_type": "code",
        "colab": {}
      },
      "source": [
        "def value_iteration_optimized(V_s):\n",
        "  delta = DELTA_LIM + 1\n",
        "  \n",
        "  new_policy = None\n",
        "  \n",
        "  while delta > DELTA_LIM:\n",
        "    delta = 0\n",
        "  \n",
        "    v = V_s.copy()\n",
        "    \n",
        "    reward = prob_table[:, :, :, 1] + DISCOUNT * v[prob_table[:, :, :, 2].astype(np.intp)] # (99, 50, 2)\n",
        "    reward *= prob_table[:, :, :, 0] # (99, 50, 2)\n",
        "    reward = np.sum(reward, axis=2) # (99, 50)\n",
        "    \n",
        "    V_s = np.max(reward, axis = 1) # (99)\n",
        "    V_s = np.array([0] + V_s.tolist() + [1])\n",
        "    \n",
        "    new_policy = np.argmax(reward, axis = 1) + 1\n",
        "    \n",
        "    delta = np.amax(np.abs(v - V_s))\n",
        "    \n",
        "    print(\"DELTA\", np.round(delta, 6))\n",
        "    \n",
        "  return new_policy, V_s\n",
        "\n",
        "\n",
        "\n",
        "def P(s, a):\n",
        "  return [[p_h, s + a], [1-p_h, s - a]]\n",
        "\n",
        "def value_iteration(V_s):\n",
        "  delta = DELTA_LIM + 1\n",
        "  \n",
        "  new_policy = np.ones(99)\n",
        "  \n",
        "  while delta > DELTA_LIM:\n",
        "    delta = 0\n",
        "    for s in range(1, NUM_STATES - 1):\n",
        "      v = V_s[s]\n",
        "      rewards = []\n",
        "      for a in get_actions(s):\n",
        "        reward = 0\n",
        "        for prob, next_state in P(s, a):\n",
        "          if next_state == 101:\n",
        "            reward += prob * (1 + DISCOUNT * V_s[next_state])\n",
        "          else:\n",
        "            reward += prob * (DISCOUNT * V_s[next_state])\n",
        "        rewards.append(reward)\n",
        "      V_s[s] = max(rewards)\n",
        "      new_policy[s - 1] = np.argmax(rewards) + 1\n",
        "      delta = max(delta, abs(v - V_s[s]))\n",
        "    print(\"DELTA\", np.round(delta, 6))\n",
        "    \n",
        "  return new_policy, V_s"
      ],
      "execution_count": 0,
      "outputs": []
    },
    {
      "cell_type": "code",
      "metadata": {
        "id": "wPVLiQbXW1gX",
        "colab_type": "code",
        "outputId": "ad7f535e-0f47-4689-dbf1-74832099ee92",
        "colab": {
          "base_uri": "https://localhost:8080/",
          "height": 746
        }
      },
      "source": [
        "policy, V_s = value_iteration_optimized(V_s)\n",
        "print(policy)\n",
        "print(V_s)"
      ],
      "execution_count": 6,
      "outputs": [
        {
          "output_type": "stream",
          "text": [
            "DELTA 0.4\n",
            "DELTA 0.24\n",
            "DELTA 0.144\n",
            "DELTA 0.0864\n",
            "DELTA 0.05184\n",
            "DELTA 0.031104\n",
            "DELTA 0.012442\n",
            "DELTA 0.007465\n",
            "DELTA 0.002986\n",
            "DELTA 0.001792\n",
            "DELTA 0.001075\n",
            "DELTA 0.000645\n",
            "DELTA 0.000258\n",
            "DELTA 0.000103\n",
            "DELTA 4.1e-05\n",
            "DELTA 2.5e-05\n",
            "DELTA 1e-05\n",
            "DELTA 6e-06\n",
            "DELTA 2e-06\n",
            "DELTA 1e-06\n",
            "[ 1  2  3  4  5  6  7  8  9 10 11 12 12 11 10  9  8  7 19 20  4  3  2  1\n",
            " 25  1  2  3  4  5  6  7  8  9 10 11 12 12 11 10  9  8  7  6  5  4  3  2\n",
            "  1 50  1  2  3  4  5  6  7  8 41 10 39 12 37 11 15 34  8 18  6 30  4  3\n",
            "  2  1 25  1  2  3  4  5  6  7  8  9 15 11 12 12 11 10  9  8  7  6  5  4\n",
            "  3  2  1]\n",
            "[0.         0.00206544 0.00516389 0.0092254  0.01291015 0.01738521\n",
            " 0.02306349 0.02781403 0.03227537 0.03768487 0.0434633  0.05035437\n",
            " 0.05765916 0.06523915 0.06953507 0.07443112 0.08068842 0.08661081\n",
            " 0.09421245 0.10314349 0.10865867 0.11596637 0.12588593 0.13357982\n",
            " 0.14414789 0.16       0.16309816 0.16774583 0.1738381  0.17936522\n",
            " 0.18607781 0.19459524 0.20172104 0.20841305 0.2165273  0.22519495\n",
            " 0.23553156 0.24648874 0.25785873 0.2643026  0.27164669 0.28103263\n",
            " 0.28991621 0.30131868 0.31471524 0.32298801 0.33394956 0.34882889\n",
            " 0.36036974 0.37622184 0.4        0.40309816 0.40774583 0.4138381\n",
            " 0.41936522 0.42607781 0.43459524 0.44172104 0.44841305 0.4565273\n",
            " 0.46519495 0.47553156 0.48648874 0.49785873 0.5043026  0.51164669\n",
            " 0.52103263 0.52991621 0.54131868 0.55471524 0.56298801 0.57394956\n",
            " 0.58882889 0.60036974 0.61622184 0.64       0.64464725 0.65161875\n",
            " 0.66075714 0.66904783 0.67911672 0.69189286 0.70258156 0.71261958\n",
            " 0.72479095 0.73779243 0.75329733 0.7697331  0.78678809 0.79645391\n",
            " 0.80747003 0.82154894 0.83487432 0.85197802 0.87207286 0.88448202\n",
            " 0.90092434 0.92324333 0.9405546  0.96433276 1.        ]\n"
          ],
          "name": "stdout"
        }
      ]
    },
    {
      "cell_type": "code",
      "metadata": {
        "id": "09fkmi68ZTVj",
        "colab_type": "code",
        "outputId": "4e5234e1-3ec2-4430-f7e8-ac1844120332",
        "colab": {
          "base_uri": "https://localhost:8080/",
          "height": 269
        }
      },
      "source": [
        "import matplotlib.pyplot as plt\n",
        "plt.bar(range(1,100), policy)\n",
        "plt.show()"
      ],
      "execution_count": 7,
      "outputs": [
        {
          "output_type": "display_data",
          "data": {
            "image/png": "[encoded data removed]",
            "text/plain": [
              "<Figure size 432x288 with 1 Axes>"
            ]
          },
          "metadata": {
            "tags": []
          }
        }
      ]
    },
    {
      "cell_type": "code",
      "metadata": {
        "id": "VWVMExiOZifD",
        "colab_type": "code",
        "outputId": "22f3f788-5715-4b7a-ccef-3ca69eb7a618",
        "colab": {
          "base_uri": "https://localhost:8080/",
          "height": 269
        }
      },
      "source": [
        "plt.plot(V_s)\n",
        "plt.show()"
      ],
      "execution_count": 8,
      "outputs": [
        {
          "output_type": "display_data",
          "data": {
            "image/png": "[encoded data removed]",
            "text/plain": [
              "<Figure size 432x288 with 1 Axes>"
            ]
          },
          "metadata": {
            "tags": []
          }
        }
      ]
    }
  ]
}